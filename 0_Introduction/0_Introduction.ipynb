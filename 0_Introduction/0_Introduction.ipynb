{
 "metadata": {
  "language_info": {
   "codemirror_mode": {
    "name": "ipython",
    "version": 3
   },
   "file_extension": ".py",
   "mimetype": "text/x-python",
   "name": "python",
   "nbconvert_exporter": "python",
   "pygments_lexer": "ipython3",
   "version": 3
  },
  "orig_nbformat": 2
 },
 "nbformat": 4,
 "nbformat_minor": 2,
 "cells": [
  {
   "source": [
    "# 0. Introduction \n"
   ],
   "cell_type": "markdown",
   "metadata": {}
  },
  {
   "source": [
    "<p align=\"center\">\n",
    "<img src=\"https://mms.businesswire.com/media/20210331005579/en/868438/23/instacart-logo-wordmark-4000x1600-e4f3c6f.jpg\" title=\"Instacart\" width=\"700\" />\n",
    "</p>"
   ],
   "cell_type": "markdown",
   "metadata": {}
  },
  {
   "source": [
    "\n",
    "Instacart is a market platform offering grocery delivery and pick-up across the United States & Canada. They connect consumers with stores via personal shoppers who carry out the shopping and delivery. "
   ],
   "cell_type": "markdown",
   "metadata": {}
  },
  {
   "source": [
    "## 0.1 The business problem\n",
    "\n"
   ],
   "cell_type": "markdown",
   "metadata": {}
  },
  {
   "source": [
    "<p align=\"center\">\n",
    "With every transaction done via the website or the app, Instacart stores important behavioural data on customers purchases, such as which products where bought together. With the additional information on product categories and aisles membership of the products. \n",
    "\n",
    "**However, how can this data be meaningful for Instacart?**\n",
    "\n",
    "With access to large datasets on purchase behaviopur, Instacart can identify hidden patterns in the data which can help in building a recommender engine. For the Kaggle challlenge the solution was clear. Build a recommender system based on the data, however the problem not. \n",
    "\n",
    "**So, let's take a step back and imagine**\n",
    "\n",
    "What would be the cause for such a solution to be implmeneted? Instacart is dependent on users sticking to their service to cash in the cost of acquiring this user. Furthermore, Instacart's business model is built on monetization through total purchase fees, subscriptions and delivery fees. On one hand, Instacart are interested in reducing churn, but simoultanously they are also interested in increasing the volume. What we see is a clear business problem, however problem may be misleading as it is infact an opportunity Instacart can capitalize on. \n",
    "</p>\n",
    "\n",
    "> #### ❓ Business Problem: Increase spend per customers by upselling and reduce customer churn. "
   ],
   "cell_type": "markdown",
   "metadata": {}
  },
  {
   "source": [
    "## 0.2 Is machine learning the righ approach for Instacart?\n"
   ],
   "cell_type": "markdown",
   "metadata": {}
  },
  {
   "source": [
    "With a dataset that is 3 million orders across 200k users and 50k products and destined to grow to an even larger number outside of our application, the size of the dataset is large. With segmentation based on complex structure of shopping baskets per user changing over time, creating a rule-based solution may prove challenging. Furthermore, the complexity of such rules would be almost impossible to keep track off. \n",
    "\n",
    "However, using machine learning we could segment the users using unsupervised models and then use a collaborative filtering method infer the relations\n",
    "\n",
    "\n",
    "> #### 💡 ML Solution: Given a certain composition in a shopping basket, what product(s) will be recommended? \n",
    "\n",
    "What this proposed solution could grant Instacart a model to upsell additional products while the user is browsing and increase the customer experience therefore reducing churn, by delivering a personalzied shopping experience."
   ],
   "cell_type": "markdown",
   "metadata": {}
  },
  {
   "source": [
    "## 0.3 Collecting the data\n",
    "\n",
    "With this project, we had the luxury of having all data (and cleaned) at hand provided through a Kaggle challenge. The dataset contained a large number of entries which makes the concern of significance of certain features smaller. \n",
    "\n",
    "In a normal business case, the data would either need a step of cleaning to make sure no entries would pollute the dataset. \n",
    "\n"
   ],
   "cell_type": "markdown",
   "metadata": {}
  },
  {
   "source": [
    "## 0.4 Patterns in the data \n",
    "\n",
    "Due to the complexity of the problem with 50.000 different products over 200.000 users, it's difficult for the naked eye to observe any significant patterns in the data. Using unsupervised learning we can cluster customers into segments by simularity in their purchase by aisle share. Something we will get back to in the clustering section of this project"
   ],
   "cell_type": "markdown",
   "metadata": {}
  },
  {
   "source": [
    "## 0.5 Representations and features\n",
    "\n",
    "The dataset contained a few different features right from the start. Most notable for our usecase was user-id, order-id, product name, aisle name and product category. However, the real value originates from the combined value. \n",
    "\n",
    "Before segmenting our uses into clusters, we needed to engineer an additional meaningful feature to relate them to each other. We decided to use aisle-share as one of our main features to relate users to each other for the clustering model. \n"
   ],
   "cell_type": "markdown",
   "metadata": {}
  },
  {
   "source": [
    "## 0.6 Evaluate Success\n",
    "\n",
    "As the problem requires unsupervised learning, we do not have the luxury of evaluate the succes using labels. Although still being able to measure it, we used parts of the data in each clusters (20%) as a test data where we recreate a basket and compare the next product from the basket. For that we used the add to cart order. \n",
    "\n",
    "Another and more reliable way to evaluate our performance is only possible if we had an opportunity to deploy the model in the instacart product. "
   ],
   "cell_type": "markdown",
   "metadata": {}
  },
  {
   "source": [
    "## Link to [1. Exploratory Data Analysis](notebooks/EDA.ipynb) "
   ],
   "cell_type": "markdown",
   "metadata": {}
  },
  {
   "cell_type": "code",
   "execution_count": null,
   "metadata": {},
   "outputs": [],
   "source": []
  }
 ]
}